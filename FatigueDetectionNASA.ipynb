{
 "nbformat": 4,
 "nbformat_minor": 0,
 "metadata": {
  "colab": {
   "provenance": [],
   "gpuType": "T4"
  },
  "kernelspec": {
   "name": "python3",
   "language": "python",
   "display_name": "Python 3 (ipykernel)"
  },
  "language_info": {
   "name": "python"
  },
  "accelerator": "GPU"
 },
 "cells": [
  {
   "cell_type": "markdown",
   "source": [
    "# [NASA Fatigue Dataset](https://nasagov.app.box.com/s/dthnokybxvlh84yn1jl0emlqyw0i1kyz/folder/168445696896)"
   ],
   "metadata": {
    "id": "W8GD1GdnttH9"
   }
  },
  {
   "cell_type": "code",
   "source": [
    "!pip install torch"
   ],
   "metadata": {
    "colab": {
     "base_uri": "https://localhost:8080/"
    },
    "id": "sWDo0Z12uFY1",
    "outputId": "e44df169-0964-4eaa-84dd-b0c7b5079673",
    "ExecuteTime": {
     "end_time": "2024-05-10T20:33:20.346524Z",
     "start_time": "2024-05-10T20:33:08.221737Z"
    }
   },
   "execution_count": 5,
   "outputs": [
    {
     "name": "stdout",
     "output_type": "stream",
     "text": [
      "Collecting torch\r\n",
      "  Downloading torch-2.3.0-cp312-none-macosx_11_0_arm64.whl.metadata (26 kB)\r\n",
      "Collecting filelock (from torch)\r\n",
      "  Downloading filelock-3.14.0-py3-none-any.whl.metadata (2.8 kB)\r\n",
      "Collecting typing-extensions>=4.8.0 (from torch)\r\n",
      "  Downloading typing_extensions-4.11.0-py3-none-any.whl.metadata (3.0 kB)\r\n",
      "Collecting sympy (from torch)\r\n",
      "  Downloading sympy-1.12-py3-none-any.whl.metadata (12 kB)\r\n",
      "Collecting networkx (from torch)\r\n",
      "  Downloading networkx-3.3-py3-none-any.whl.metadata (5.1 kB)\r\n",
      "Requirement already satisfied: jinja2 in /Library/Frameworks/Python.framework/Versions/3.12/lib/python3.12/site-packages (from torch) (3.1.2)\r\n",
      "Collecting fsspec (from torch)\r\n",
      "  Downloading fsspec-2024.3.1-py3-none-any.whl.metadata (6.8 kB)\r\n",
      "Requirement already satisfied: MarkupSafe>=2.0 in /Library/Frameworks/Python.framework/Versions/3.12/lib/python3.12/site-packages (from jinja2->torch) (2.1.3)\r\n",
      "Collecting mpmath>=0.19 (from sympy->torch)\r\n",
      "  Downloading mpmath-1.3.0-py3-none-any.whl.metadata (8.6 kB)\r\n",
      "Downloading torch-2.3.0-cp312-none-macosx_11_0_arm64.whl (61.0 MB)\r\n",
      "\u001B[2K   \u001B[90m━━━━━━━━━━━━━━━━━━━━━━━━━━━━━━━━━━━━━━━━\u001B[0m \u001B[32m61.0/61.0 MB\u001B[0m \u001B[31m49.8 MB/s\u001B[0m eta \u001B[36m0:00:00\u001B[0m00:01\u001B[0m00:01\u001B[0m\r\n",
      "\u001B[?25hDownloading typing_extensions-4.11.0-py3-none-any.whl (34 kB)\r\n",
      "Downloading filelock-3.14.0-py3-none-any.whl (12 kB)\r\n",
      "Downloading fsspec-2024.3.1-py3-none-any.whl (171 kB)\r\n",
      "\u001B[2K   \u001B[90m━━━━━━━━━━━━━━━━━━━━━━━━━━━━━━━━━━━━━━━━\u001B[0m \u001B[32m172.0/172.0 kB\u001B[0m \u001B[31m21.9 MB/s\u001B[0m eta \u001B[36m0:00:00\u001B[0m\r\n",
      "\u001B[?25hDownloading networkx-3.3-py3-none-any.whl (1.7 MB)\r\n",
      "\u001B[2K   \u001B[90m━━━━━━━━━━━━━━━━━━━━━━━━━━━━━━━━━━━━━━━━\u001B[0m \u001B[32m1.7/1.7 MB\u001B[0m \u001B[31m44.5 MB/s\u001B[0m eta \u001B[36m0:00:00\u001B[0m00:01\u001B[0m\r\n",
      "\u001B[?25hDownloading sympy-1.12-py3-none-any.whl (5.7 MB)\r\n",
      "\u001B[2K   \u001B[90m━━━━━━━━━━━━━━━━━━━━━━━━━━━━━━━━━━━━━━━━\u001B[0m \u001B[32m5.7/5.7 MB\u001B[0m \u001B[31m44.9 MB/s\u001B[0m eta \u001B[36m0:00:00\u001B[0ma \u001B[36m0:00:01\u001B[0m\r\n",
      "\u001B[?25hDownloading mpmath-1.3.0-py3-none-any.whl (536 kB)\r\n",
      "\u001B[2K   \u001B[90m━━━━━━━━━━━━━━━━━━━━━━━━━━━━━━━━━━━━━━━━\u001B[0m \u001B[32m536.2/536.2 kB\u001B[0m \u001B[31m37.0 MB/s\u001B[0m eta \u001B[36m0:00:00\u001B[0m\r\n",
      "\u001B[?25hInstalling collected packages: mpmath, typing-extensions, sympy, networkx, fsspec, filelock, torch\r\n",
      "Successfully installed filelock-3.14.0 fsspec-2024.3.1 mpmath-1.3.0 networkx-3.3 sympy-1.12 torch-2.3.0 typing-extensions-4.11.0\r\n"
     ]
    }
   ]
  },
  {
   "cell_type": "code",
   "source": [
    "from scipy.io import loadmat\n",
    "import torch\n",
    "import numpy as np\n",
    "import pandas as pd\n",
    "import os\n",
    "from pathlib import Path\n",
    "import matplotlib.pyplot as plt\n",
    "import mne\n"
   ],
   "metadata": {
    "id": "lPbXAAGqt_w3",
    "ExecuteTime": {
     "end_time": "2024-05-10T20:33:51.114003Z",
     "start_time": "2024-05-10T20:33:47.094695Z"
    }
   },
   "execution_count": 6,
   "outputs": []
  },
  {
   "cell_type": "code",
   "source": [
    "NASA_dataset_root = '/content/drive/MyDrive/ACE Projects/Cognitive Fatigue/Datasets/EEG/'"
   ],
   "metadata": {
    "id": "TeavlKeht_zC"
   },
   "execution_count": 9,
   "outputs": []
  },
  {
   "cell_type": "code",
   "source": [
    "files = os.listdir(NASA_dataset_root)\n",
    "filtered_files = [file for file in files if 'BB' in file]\n",
    "filtered_files,len(filtered_files)"
   ],
   "metadata": {
    "colab": {
     "base_uri": "https://localhost:8080/"
    },
    "id": "st9atTcYvXm1",
    "outputId": "db385bea-796f-4230-c350-74994fac2818"
   },
   "execution_count": 10,
   "outputs": [
    {
     "output_type": "execute_result",
     "data": {
      "text/plain": [
       "(['2757BB',\n",
       "  '2750BB',\n",
       "  '2762BB',\n",
       "  '2763BB',\n",
       "  '2760BB',\n",
       "  '2761BB',\n",
       "  '2764BB',\n",
       "  '2766BB',\n",
       "  '2765BB'],\n",
       " 9)"
      ]
     },
     "metadata": {},
     "execution_count": 10
    }
   ]
  },
  {
   "cell_type": "code",
   "source": [],
   "metadata": {
    "id": "j0JDUzOp1hp5"
   },
   "execution_count": 10,
   "outputs": []
  },
  {
   "cell_type": "code",
   "source": [
    "class MDFA:\n",
    "  def __init__(self,signal, channel, scales, q, plot,order):\n",
    "    self.order=order\n",
    "    self.q =q\n",
    "    self.scales = scales\n",
    "\n",
    "    if channel == 'A2': channel = 0\n",
    "    elif channel == 'Cz': channel = 1\n",
    "    elif channel == 'EoG_R': channel = 2\n",
    "    elif channel == 'EoG_L': channel = 3\n",
    "    else:\n",
    "      raise(\"channel is not in the data\")\n",
    "\n",
    "    self.data = signal[channel]\n",
    "    RMS, self.Fq = self.calculate_RMS_Fq()\n",
    "    self.Hq,qRegLine = self.calculate_Hq_qRegLine()\n",
    "    self.tq,self.Dq,self.hq = self.calculate_tq_Dq_hq()\n",
    "\n",
    "    if plot:\n",
    "        self.plot_results()\n",
    "\n",
    "  def calculate_RMS_Fq(self):\n",
    "    m = self.order\n",
    "\n",
    "    X = np.cumsum(self.data - np.mean(self.data))\n",
    "    X = X.reshape(-1, 1)\n",
    "    RMS = [[] for _ in self.scales]\n",
    "    Fq = np.zeros((len(self.q), len(self.scales)))\n",
    "    for ns, scale in enumerate(self.scales):\n",
    "        segments = len(X) // scale\n",
    "        for v in range(segments):\n",
    "            idx_start = v * scale\n",
    "            idx_end = (v + 1) * scale\n",
    "            index = np.arange(idx_start, idx_end)\n",
    "            C = np.polyfit(index, X[index], m)\n",
    "            fit = np.polyval(C, index)\n",
    "            RMS[ns].append(np.sqrt(np.mean((X[index] - fit) ** 2)))\n",
    "\n",
    "        RMS[ns] = np.array(RMS[ns])  # Convert segment list to array for numpy operations\n",
    "        for nq, q_val in enumerate(self.q):\n",
    "            if q_val != 0:\n",
    "                qRMS = RMS[ns] ** q_val\n",
    "                Fq[nq, ns] = np.mean(qRMS) ** (1 / q_val)\n",
    "            else:\n",
    "                # Special case for q = 0\n",
    "                Fq[nq, ns] = np.exp(0.5 * np.mean(np.log(RMS[ns] ** 2)))\n",
    "    return RMS, Fq\n",
    "\n",
    "  def calculate_tq_Dq_hq(self):\n",
    "    tq = self.Hq * self.q - 1\n",
    "    tq_diff = np.diff(tq)\n",
    "    # Calculate hq\n",
    "    delta_q = self.q[1] - self.q[0]  # The difference between the first two q values\n",
    "    hq = tq_diff / delta_q\n",
    "    # Calculate Dq\n",
    "    Dq = (self.q[:-1] * hq) - tq[:-1]  # q[:-1] means all q elements except the last one\n",
    "    return tq,Dq,hq\n",
    "\n",
    "  def calculate_Hq_qRegLine(self):\n",
    "    Hq = np.zeros(len(self.q))\n",
    "    qRegLine = []\n",
    "\n",
    "    # Perform linear regression on the log-log values\n",
    "    for nq, q_val in enumerate(self.q):\n",
    "        C = np.polyfit(np.log2(self.scales), np.log2(self.Fq[nq, :]), self.order)\n",
    "        Hq[nq] = C[0]\n",
    "        qRegLine.append(np.polyval(C, np.log2(self.scales)))\n",
    "\n",
    "    return Hq,qRegLine\n",
    "\n",
    "  def plot_results(self):\n",
    "    fig, axs = plt.subplots(1, 5, figsize=(25, 5))  # 1 row, 5 columns\n",
    "    plot_settings = [\n",
    "        (0, self.q, self.Hq, 'q-order', 'Hq'),\n",
    "        (1, self.q, self.tq, 'q-order', 'tq'),\n",
    "        (2, self.q[1:], self.Dq, 'q-order', 'Dq'),\n",
    "        (3, self.q[1:], self.hq, 'q-order', 'hq'),\n",
    "        (4, self.hq, self.Dq, 'hq', 'Dq')\n",
    "    ]\n",
    "\n",
    "    for index, x, y, xlabel, ylabel in plot_settings:\n",
    "        axs[index].plot(x, y, 'o-')\n",
    "        axs[index].set_xlabel(xlabel)\n",
    "        axs[index].set_ylabel(ylabel)\n",
    "        axs[index].legend()\n",
    "\n",
    "    plt.tight_layout()\n",
    "    plt.show()\n",
    "\n"
   ],
   "metadata": {
    "id": "0atA2wi81qgh"
   },
   "execution_count": 11,
   "outputs": []
  },
  {
   "cell_type": "code",
   "source": [
    "filtered_files"
   ],
   "metadata": {
    "colab": {
     "base_uri": "https://localhost:8080/"
    },
    "id": "WZSE3xC57vrM",
    "outputId": "f3957f59-3da4-4298-fe47-f115527a1328"
   },
   "execution_count": 30,
   "outputs": [
    {
     "output_type": "execute_result",
     "data": {
      "text/plain": [
       "['2757BB',\n",
       " '2750BB',\n",
       " '2762BB',\n",
       " '2763BB',\n",
       " '2760BB',\n",
       " '2761BB',\n",
       " '2764BB',\n",
       " '2766BB',\n",
       " '2765BB']"
      ]
     },
     "metadata": {},
     "execution_count": 30
    }
   ]
  },
  {
   "cell_type": "code",
   "source": [
    "for fname in filtered_files:\n",
    "  vhdr_file_path = os.path.join(NASA_dataset_root,f'{fname}/{fname}_D1.vhdr')\n",
    "  print(vhdr_file_path)"
   ],
   "metadata": {
    "colab": {
     "base_uri": "https://localhost:8080/",
     "height": 108
    },
    "id": "7YHfaqym7hK7",
    "outputId": "3bb23608-72c7-4d86-8da0-c72b14ffc11f"
   },
   "execution_count": 31,
   "outputs": [
    {
     "output_type": "error",
     "ename": "SyntaxError",
     "evalue": "incomplete input (<ipython-input-31-0da101125327>, line 1)",
     "traceback": [
      "\u001B[0;36m  File \u001B[0;32m\"<ipython-input-31-0da101125327>\"\u001B[0;36m, line \u001B[0;32m1\u001B[0m\n\u001B[0;31m    for fname in filtered_files:\u001B[0m\n\u001B[0m                                ^\u001B[0m\n\u001B[0;31mSyntaxError\u001B[0m\u001B[0;31m:\u001B[0m incomplete input\n"
     ]
    }
   ]
  },
  {
   "cell_type": "code",
   "source": [
    "  MDFA(signal,'A2',[16, 32, 64, 128, 256, 512, 1024],np.linspace(-10, 10, 100),True,2)\n",
    "\n",
    "  signal, times = raw[:]\n",
    "  raw = mne.io.read_raw_brainvision(vhdr_file_path, preload=True)\n"
   ],
   "metadata": {
    "id": "b27L8U2fLtOU"
   },
   "execution_count": null,
   "outputs": []
  },
  {
   "cell_type": "code",
   "source": [
    "for filename in os.listdir(directory):\n",
    "    if '-' in filename:\n",
    "        # Create the new filename by replacing '-' with an empty string or another character\n",
    "        new_filename = filename.replace('-', '')  # This removes the '-'\n",
    "        # new_filename = filename.replace('-', '_')  # This replaces '-' with '_'\n",
    "\n",
    "        # Full path to the current and new filenames\n",
    "        old_file = os.path.join(directory, filename)\n",
    "        new_file = os.path.join(directory, new_filename)\n",
    "\n",
    "        # Rename the file\n",
    "        os.rename(old_file, new_file)\n",
    "        print(f\"Renamed '{filename}' to '{new_filename}'\")\n"
   ],
   "metadata": {
    "id": "BeJh6UBY96Xb"
   },
   "execution_count": null,
   "outputs": []
  }
 ]
}
