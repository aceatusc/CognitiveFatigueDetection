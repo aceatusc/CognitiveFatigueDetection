{
 "cells": [
  {
   "cell_type": "markdown",
   "metadata": {
    "id": "W8GD1GdnttH9"
   },
   "source": [
    "# [NASA Fatigue Dataset](https://nasagov.app.box.com/s/dthnokybxvlh84yn1jl0emlqyw0i1kyz/folder/168445696896)"
   ]
  },
  {
   "cell_type": "code",
   "execution_count": 2,
   "metadata": {
    "ExecuteTime": {
     "end_time": "2024-05-10T20:33:51.114003Z",
     "start_time": "2024-05-10T20:33:47.094695Z"
    },
    "id": "lPbXAAGqt_w3"
   },
   "outputs": [],
   "source": [
    "from scipy.io import loadmat\n",
    "import torch\n",
    "import numpy as np\n",
    "import pandas as pd\n",
    "import os\n",
    "from pathlib import Path\n",
    "import matplotlib.pyplot as plt\n",
    "import mne\n"
   ]
  },
  {
   "cell_type": "code",
   "execution_count": 3,
   "metadata": {
    "id": "TeavlKeht_zC"
   },
   "outputs": [],
   "source": [
    "NASA_dataset_root = '/content/drive/MyDrive/ACE Projects/Cognitive Fatigue/Datasets/EEG/'"
   ]
  },
  {
   "cell_type": "code",
   "execution_count": 4,
   "metadata": {
    "colab": {
     "base_uri": "https://localhost:8080/"
    },
    "id": "st9atTcYvXm1",
    "outputId": "db385bea-796f-4230-c350-74994fac2818"
   },
   "outputs": [
    {
     "ename": "FileNotFoundError",
     "evalue": "[Errno 2] No such file or directory: '/content/drive/MyDrive/ACE Projects/Cognitive Fatigue/Datasets/EEG/'",
     "output_type": "error",
     "traceback": [
      "\u001b[0;31m---------------------------------------------------------------------------\u001b[0m",
      "\u001b[0;31mFileNotFoundError\u001b[0m                         Traceback (most recent call last)",
      "Cell \u001b[0;32mIn[4], line 1\u001b[0m\n\u001b[0;32m----> 1\u001b[0m files \u001b[38;5;241m=\u001b[39m os\u001b[38;5;241m.\u001b[39mlistdir(NASA_dataset_root)\n\u001b[1;32m      2\u001b[0m filtered_files \u001b[38;5;241m=\u001b[39m [file \u001b[38;5;28;01mfor\u001b[39;00m file \u001b[38;5;129;01min\u001b[39;00m files \u001b[38;5;28;01mif\u001b[39;00m \u001b[38;5;124m'\u001b[39m\u001b[38;5;124mBB\u001b[39m\u001b[38;5;124m'\u001b[39m \u001b[38;5;129;01min\u001b[39;00m file]\n\u001b[1;32m      3\u001b[0m filtered_files,\u001b[38;5;28mlen\u001b[39m(filtered_files)\n",
      "\u001b[0;31mFileNotFoundError\u001b[0m: [Errno 2] No such file or directory: '/content/drive/MyDrive/ACE Projects/Cognitive Fatigue/Datasets/EEG/'"
     ]
    }
   ],
   "source": [
    "files = os.listdir(NASA_dataset_root)\n",
    "filtered_files = [file for file in files if 'BB' in file]\n",
    "filtered_files,len(filtered_files)"
   ]
  },
  {
   "cell_type": "code",
   "execution_count": 10,
   "metadata": {
    "id": "j0JDUzOp1hp5"
   },
   "outputs": [],
   "source": []
  },
  {
   "cell_type": "code",
   "execution_count": 11,
   "metadata": {
    "id": "0atA2wi81qgh"
   },
   "outputs": [],
   "source": [
    "class MDFA:\n",
    "  def __init__(self,signal, channel, scales, q, plot,order):\n",
    "    self.order=order\n",
    "    self.q =q\n",
    "    self.scales = scales\n",
    "\n",
    "    if channel == 'A2': channel = 0\n",
    "    elif channel == 'Cz': channel = 1\n",
    "    elif channel == 'EoG_R': channel = 2\n",
    "    elif channel == 'EoG_L': channel = 3\n",
    "    else:\n",
    "      raise(\"channel is not in the data\")\n",
    "\n",
    "    self.data = signal[channel]\n",
    "    RMS, self.Fq = self.calculate_RMS_Fq()\n",
    "    self.Hq,qRegLine = self.calculate_Hq_qRegLine()\n",
    "    self.tq,self.Dq,self.hq = self.calculate_tq_Dq_hq()\n",
    "\n",
    "    if plot:\n",
    "        self.plot_results()\n",
    "\n",
    "  def calculate_RMS_Fq(self):\n",
    "    m = self.order\n",
    "\n",
    "    X = np.cumsum(self.data - np.mean(self.data))\n",
    "    X = X.reshape(-1, 1)\n",
    "    RMS = [[] for _ in self.scales]\n",
    "    Fq = np.zeros((len(self.q), len(self.scales)))\n",
    "    for ns, scale in enumerate(self.scales):\n",
    "        segments = len(X) // scale\n",
    "        for v in range(segments):\n",
    "            idx_start = v * scale\n",
    "            idx_end = (v + 1) * scale\n",
    "            index = np.arange(idx_start, idx_end)\n",
    "            C = np.polyfit(index, X[index], m)\n",
    "            fit = np.polyval(C, index)\n",
    "            RMS[ns].append(np.sqrt(np.mean((X[index] - fit) ** 2)))\n",
    "\n",
    "        RMS[ns] = np.array(RMS[ns])  # Convert segment list to array for numpy operations\n",
    "        for nq, q_val in enumerate(self.q):\n",
    "            if q_val != 0:\n",
    "                qRMS = RMS[ns] ** q_val\n",
    "                Fq[nq, ns] = np.mean(qRMS) ** (1 / q_val)\n",
    "            else:\n",
    "                # Special case for q = 0\n",
    "                Fq[nq, ns] = np.exp(0.5 * np.mean(np.log(RMS[ns] ** 2)))\n",
    "    return RMS, Fq\n",
    "\n",
    "  def calculate_tq_Dq_hq(self):\n",
    "    tq = self.Hq * self.q - 1\n",
    "    tq_diff = np.diff(tq)\n",
    "    # Calculate hq\n",
    "    delta_q = self.q[1] - self.q[0]  # The difference between the first two q values\n",
    "    hq = tq_diff / delta_q\n",
    "    # Calculate Dq\n",
    "    Dq = (self.q[:-1] * hq) - tq[:-1]  # q[:-1] means all q elements except the last one\n",
    "    return tq,Dq,hq\n",
    "\n",
    "  def calculate_Hq_qRegLine(self):\n",
    "    Hq = np.zeros(len(self.q))\n",
    "    qRegLine = []\n",
    "\n",
    "    # Perform linear regression on the log-log values\n",
    "    for nq, q_val in enumerate(self.q):\n",
    "        C = np.polyfit(np.log2(self.scales), np.log2(self.Fq[nq, :]), self.order)\n",
    "        Hq[nq] = C[0]\n",
    "        qRegLine.append(np.polyval(C, np.log2(self.scales)))\n",
    "\n",
    "    return Hq,qRegLine\n",
    "\n",
    "  def plot_results(self):\n",
    "    fig, axs = plt.subplots(1, 5, figsize=(25, 5))  # 1 row, 5 columns\n",
    "    plot_settings = [\n",
    "        (0, self.q, self.Hq, 'q-order', 'Hq'),\n",
    "        (1, self.q, self.tq, 'q-order', 'tq'),\n",
    "        (2, self.q[1:], self.Dq, 'q-order', 'Dq'),\n",
    "        (3, self.q[1:], self.hq, 'q-order', 'hq'),\n",
    "        (4, self.hq, self.Dq, 'hq', 'Dq')\n",
    "    ]\n",
    "\n",
    "    for index, x, y, xlabel, ylabel in plot_settings:\n",
    "        axs[index].plot(x, y, 'o-')\n",
    "        axs[index].set_xlabel(xlabel)\n",
    "        axs[index].set_ylabel(ylabel)\n",
    "        axs[index].legend()\n",
    "\n",
    "    plt.tight_layout()\n",
    "    plt.show()\n",
    "\n"
   ]
  },
  {
   "cell_type": "code",
   "execution_count": 30,
   "metadata": {
    "colab": {
     "base_uri": "https://localhost:8080/"
    },
    "id": "WZSE3xC57vrM",
    "outputId": "f3957f59-3da4-4298-fe47-f115527a1328"
   },
   "outputs": [
    {
     "data": {
      "text/plain": [
       "['2757BB',\n",
       " '2750BB',\n",
       " '2762BB',\n",
       " '2763BB',\n",
       " '2760BB',\n",
       " '2761BB',\n",
       " '2764BB',\n",
       " '2766BB',\n",
       " '2765BB']"
      ]
     },
     "execution_count": 30,
     "metadata": {},
     "output_type": "execute_result"
    }
   ],
   "source": [
    "filtered_files"
   ]
  },
  {
   "cell_type": "code",
   "execution_count": 31,
   "metadata": {
    "colab": {
     "base_uri": "https://localhost:8080/",
     "height": 108
    },
    "id": "7YHfaqym7hK7",
    "outputId": "3bb23608-72c7-4d86-8da0-c72b14ffc11f"
   },
   "outputs": [
    {
     "ename": "SyntaxError",
     "evalue": "incomplete input (<ipython-input-31-0da101125327>, line 1)",
     "output_type": "error",
     "traceback": [
      "\u001b[0;36m  File \u001b[0;32m\"<ipython-input-31-0da101125327>\"\u001b[0;36m, line \u001b[0;32m1\u001b[0m\n\u001b[0;31m    for fname in filtered_files:\u001b[0m\n\u001b[0m                                ^\u001b[0m\n\u001b[0;31mSyntaxError\u001b[0m\u001b[0;31m:\u001b[0m incomplete input\n"
     ]
    }
   ],
   "source": [
    "for fname in filtered_files:\n",
    "  vhdr_file_path = os.path.join(NASA_dataset_root,f'{fname}/{fname}_D1.vhdr')\n",
    "  print(vhdr_file_path)"
   ]
  },
  {
   "cell_type": "code",
   "execution_count": null,
   "metadata": {
    "id": "b27L8U2fLtOU"
   },
   "outputs": [],
   "source": [
    "  MDFA(signal,'A2',[16, 32, 64, 128, 256, 512, 1024],np.linspace(-10, 10, 100),True,2)\n",
    "\n",
    "  signal, times = raw[:]\n",
    "  raw = mne.io.read_raw_brainvision(vhdr_file_path, preload=True)\n"
   ]
  },
  {
   "cell_type": "code",
   "execution_count": null,
   "metadata": {
    "id": "BeJh6UBY96Xb"
   },
   "outputs": [],
   "source": [
    "for filename in os.listdir(directory):\n",
    "    if '-' in filename:\n",
    "        # Create the new filename by replacing '-' with an empty string or another character\n",
    "        new_filename = filename.replace('-', '')  # This removes the '-'\n",
    "        # new_filename = filename.replace('-', '_')  # This replaces '-' with '_'\n",
    "\n",
    "        # Full path to the current and new filenames\n",
    "        old_file = os.path.join(directory, filename)\n",
    "        new_file = os.path.join(directory, new_filename)\n",
    "\n",
    "        # Rename the file\n",
    "        os.rename(old_file, new_file)\n",
    "        print(f\"Renamed '{filename}' to '{new_filename}'\")\n"
   ]
  }
 ],
 "metadata": {
  "accelerator": "GPU",
  "colab": {
   "gpuType": "T4",
   "provenance": []
  },
  "kernelspec": {
   "display_name": "Python 3 (ipykernel)",
   "language": "python",
   "name": "python3"
  },
  "language_info": {
   "codemirror_mode": {
    "name": "ipython",
    "version": 3
   },
   "file_extension": ".py",
   "mimetype": "text/x-python",
   "name": "python",
   "nbconvert_exporter": "python",
   "pygments_lexer": "ipython3",
   "version": "3.11.9"
  }
 },
 "nbformat": 4,
 "nbformat_minor": 0
}
